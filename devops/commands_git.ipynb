{
 "cells": [
  {
   "cell_type": "code",
   "execution_count": null,
   "metadata": {},
   "outputs": [],
   "source": []
  },
  {
   "attachments": {},
   "cell_type": "markdown",
   "metadata": {},
   "source": [
    "git config user.email \"user@gmail.com\"\n",
    "git config user.name \"user_name\""
   ]
  },
  {
   "attachments": {},
   "cell_type": "markdown",
   "metadata": {},
   "source": [
    "git init\n",
    "git status"
   ]
  },
  {
   "attachments": {},
   "cell_type": "markdown",
   "metadata": {},
   "source": [
    "git clone https://github_url_link"
   ]
  },
  {
   "attachments": {},
   "cell_type": "markdown",
   "metadata": {},
   "source": [
    "** To rebase the branch\n",
    "\n",
    "git fetch origin main\n",
    "git pull origin main\n",
    "\n",
    "git fetch origin my_branch\n",
    "git pull origin my_branch\n",
    "\n",
    "git add .\n",
    "git commit -m 'message'\n",
    "\n",
    "git push -u origin main_branch"
   ]
  },
  {
   "attachments": {},
   "cell_type": "markdown",
   "metadata": {},
   "source": [
    "git log"
   ]
  },
  {
   "attachments": {},
   "cell_type": "markdown",
   "metadata": {},
   "source": [
    "git add main.py\n",
    "git add .\n",
    "\n",
    "git commit -m 'message'"
   ]
  },
  {
   "attachments": {},
   "cell_type": "markdown",
   "metadata": {},
   "source": [
    "git checkout other_branch\n",
    "\n",
    "git checkout -b new_branch"
   ]
  },
  {
   "attachments": {},
   "cell_type": "markdown",
   "metadata": {},
   "source": [
    "git stash -h\n",
    "git stash list\n",
    "git stash pop\n",
    "git stash apply [index]\n",
    "git stash save 'stash_having_this_change'\n",
    "git stash save -u 'stash_having_this_change'\n",
    "git stash clear"
   ]
  }
 ],
 "metadata": {
  "language_info": {
   "name": "python"
  },
  "orig_nbformat": 4
 },
 "nbformat": 4,
 "nbformat_minor": 2
}
